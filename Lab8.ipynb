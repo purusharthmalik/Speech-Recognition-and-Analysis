{
 "cells": [
  {
   "cell_type": "markdown",
   "metadata": {},
   "source": [
    "# Lab - 8\n",
    "\n",
    "Name: Purusharth Malik\n",
    "\n",
    "Registration No.: 2348542"
   ]
  },
  {
   "cell_type": "markdown",
   "metadata": {
    "vscode": {
     "languageId": "plaintext"
    }
   },
   "source": [
    "(a) Implement the Viterbi Algorithm in Python to compute:\n",
    "-  The most likely sequence of phoneme states for the observation\n",
    "sequence.\n",
    "- The probability of the most likely sequence.\n",
    "- Write an inference."
   ]
  },
  {
   "cell_type": "code",
   "execution_count": 1,
   "metadata": {},
   "outputs": [
    {
     "name": "stdout",
     "output_type": "stream",
     "text": [
      "Most likely sequence of phoneme states: ['h', 'e', 'l', 'o']\n",
      "Probability of the most likely sequence: 0.03704399999999999\n"
     ]
    }
   ],
   "source": [
    "import numpy as np\n",
    "\n",
    "states = ['h', 'e', 'l', 'o']\n",
    "observations = ['O1', 'O2', 'O3', 'O4']\n",
    "\n",
    "# Transition Probability Matrix\n",
    "A = np.array([[0.0, 0.7, 0.3, 0.0],\n",
    "              [0.0, 0.2, 0.6, 0.2],\n",
    "              [0.0, 0.0, 0.3, 0.7],\n",
    "              [0.0, 0.0, 0.1, 0.9]])\n",
    "\n",
    "# Emission Probability Matrix\n",
    "B = np.array([[0.6, 0.2, 0.1, 0.1],\n",
    "              [0.1, 0.7, 0.1, 0.1],\n",
    "              [0.1, 0.1, 0.6, 0.2],\n",
    "              [0.2, 0.1, 0.2, 0.5]])\n",
    "\n",
    "# Initial Probabilities\n",
    "pi = np.array([1, 0, 0, 0])\n",
    "\n",
    "# Number of observations and states\n",
    "T = len(observations)\n",
    "N = len(states)\n",
    "\n",
    "# Initialize matrices\n",
    "P = np.zeros((N, T)) # Probability matrix\n",
    "Q = np.zeros((N, T), dtype=int) # Path matrix\n",
    "\n",
    "# Initialization step\n",
    "for s in range(N):\n",
    "    P[s][0] = pi[s] * B[s][observations.index('O1')]\n",
    "\n",
    "# Recursion step\n",
    "for t in range(1, T):\n",
    "    for s in range(N):\n",
    "        max_prob = -1\n",
    "        max_state = -1\n",
    "        for s_prev in range(N):\n",
    "            prob = P[s_prev][t-1] * A[s_prev][s] * B[s][observations.index(f'O{t+1}')]\n",
    "            if prob > max_prob:\n",
    "                max_prob = prob\n",
    "                max_state = s_prev\n",
    "        P[s][t] = max_prob\n",
    "        Q[s][t] = max_state\n",
    "\n",
    "# Termination step\n",
    "max_final_prob = -1\n",
    "best_last_state = -1\n",
    "for s in range(N):\n",
    "    if P[s][T-1] > max_final_prob:\n",
    "        max_final_prob = P[s][T-1]\n",
    "        best_last_state = s\n",
    "\n",
    "# Backtrack to find the best path\n",
    "best_path = []\n",
    "current_state = best_last_state\n",
    "for t in range(T-1, -1, -1):\n",
    "    best_path.append(states[current_state])\n",
    "    current_state = Q[current_state][t]\n",
    "\n",
    "best_path.reverse()\n",
    "\n",
    "print(\"Most likely sequence of phoneme states:\", best_path)\n",
    "print(\"Probability of the most likely sequence:\", max_final_prob)"
   ]
  },
  {
   "cell_type": "markdown",
   "metadata": {},
   "source": [
    "- Initialization: The initial probabilities are set up based on the given data.\n",
    "- Recursion: For each observation and state combination, it calculates the maximum probability of reaching that state from any previous state and updates both matrices accordingly.\n",
    "- Termination: It finds the maximum probability at the last observation and identifies which state it corresponds to.\n",
    "- Backtracking: It reconstructs the most likely sequence of states by tracing back through the path matrix.\n",
    "\n",
    "This implementation will yield both the most likely sequence of phoneme states and its associated probability for recognizing \"hello\"."
   ]
  },
  {
   "cell_type": "markdown",
   "metadata": {},
   "source": [
    "# End"
   ]
  }
 ],
 "metadata": {
  "kernelspec": {
   "display_name": "dragon",
   "language": "python",
   "name": "python3"
  },
  "language_info": {
   "codemirror_mode": {
    "name": "ipython",
    "version": 3
   },
   "file_extension": ".py",
   "mimetype": "text/x-python",
   "name": "python",
   "nbconvert_exporter": "python",
   "pygments_lexer": "ipython3",
   "version": "3.12.7"
  }
 },
 "nbformat": 4,
 "nbformat_minor": 2
}
