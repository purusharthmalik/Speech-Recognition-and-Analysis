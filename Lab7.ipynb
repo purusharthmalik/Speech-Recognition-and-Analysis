{
 "cells": [
  {
   "cell_type": "markdown",
   "metadata": {},
   "source": [
    "# Lab - 7\n",
    "\n",
    "Name: Purusharth Malik\n",
    "\n",
    "Registration No.: 2348542"
   ]
  },
  {
   "cell_type": "markdown",
   "metadata": {},
   "source": [
    "(a) Represent the HMM parameters (initial probabilities, transition probabilities, and emission probabilities) using suitable data structures in Python."
   ]
  },
  {
   "cell_type": "code",
   "execution_count": 2,
   "metadata": {},
   "outputs": [],
   "source": [
    "import numpy as np\n",
    "\n",
    "# Initial probabilities\n",
    "initial_probabilities = {\n",
    "    '/s/': 1.0,\n",
    "    '/p/': 0.0,\n",
    "    '/ie:/': 0.0,\n",
    "    '/tS/': 0.0\n",
    "}\n",
    "\n",
    "# Transition probabilities\n",
    "transition_probabilities = np.array([\n",
    "    [0.1, 0.8, 0.1, 0.0],  # From /s/\n",
    "    [0.0, 0.1, 0.8, 0.1],  # From /p/\n",
    "    [0.0, 0.0, 0.2, 0.8],  # From /ie:/\n",
    "    [0.2, 0.0, 0.0, 0.8]   # From /tS/\n",
    "])\n",
    "\n",
    "# Emission probabilities\n",
    "emission_probabilities = np.array([\n",
    "    [0.7, 0.2, 0.1],  # For /s/\n",
    "    [0.5, 0.3, 0.2],  # For /p/\n",
    "    [0.3, 0.5, 0.2],  # For /ie:/\n",
    "    [0.4, 0.4, 0.2]   # For /tS/\n",
    "])"
   ]
  },
  {
   "cell_type": "markdown",
   "metadata": {},
   "source": [
    "(b) Write a function to neatly display the transition and emission matrices along with the initial probabilities."
   ]
  },
  {
   "cell_type": "code",
   "execution_count": 3,
   "metadata": {},
   "outputs": [
    {
     "name": "stdout",
     "output_type": "stream",
     "text": [
      "Initial Probabilities:\n",
      "/s/: 1.00\n",
      "/p/: 0.00\n",
      "/ie:/: 0.00\n",
      "/tS/: 0.00\n",
      "\n",
      "Transition Probabilities:\n",
      "From \\ To\t/s/\t/p/\t/ie:/\t/tS/\n",
      "/s/\t0.10\t0.80\t0.10\t0.00\n",
      "/p/\t0.00\t0.10\t0.80\t0.10\n",
      "/ie:/\t0.00\t0.00\t0.20\t0.80\n",
      "/tS/\t0.20\t0.00\t0.00\t0.80\n",
      "\n",
      "Emission Probabilities:\n",
      "Phoneme \\ Observation\tEnergy\tPitch\tDuration\n",
      "/s/\t0.70\t0.20\t0.10\n",
      "/p/\t0.50\t0.30\t0.20\n",
      "/ie:/\t0.30\t0.50\t0.20\n",
      "/tS/\t0.40\t0.40\t0.20\n"
     ]
    }
   ],
   "source": [
    "def display_hmm_parameters():\n",
    "    print(\"Initial Probabilities:\")\n",
    "    for phoneme, prob in initial_probabilities.items():\n",
    "        print(f\"{phoneme}: {prob:.2f}\")\n",
    "\n",
    "    print(\"\\nTransition Probabilities:\")\n",
    "    phonemes = list(initial_probabilities.keys())\n",
    "    print(\"From \\\\ To\\t\" + \"\\t\".join(phonemes))\n",
    "    for i, from_phoneme in enumerate(phonemes):\n",
    "        print(f\"{from_phoneme}\\t\" + \"\\t\".join(f\"{transition_probabilities[i][j]:.2f}\" for j in range(len(phonemes))))\n",
    "\n",
    "    print(\"\\nEmission Probabilities:\")\n",
    "    observations = ['Energy', 'Pitch', 'Duration']\n",
    "    print(\"Phoneme \\\\ Observation\\t\" + \"\\t\".join(observations))\n",
    "    for i, phoneme in enumerate(phonemes):\n",
    "        print(f\"{phoneme}\\t\" + \"\\t\".join(f\"{emission_probabilities[i][j]:.2f}\" for j in range(len(observations))))\n",
    "\n",
    "display_hmm_parameters()"
   ]
  },
  {
   "cell_type": "markdown",
   "metadata": {},
   "source": [
    "(c) Write a program to generate a single sequence of phonemes and corresponding acoustic observations for the word speech based on the defined probabilities."
   ]
  },
  {
   "cell_type": "code",
   "execution_count": 4,
   "metadata": {},
   "outputs": [
    {
     "name": "stdout",
     "output_type": "stream",
     "text": [
      "Generated Phoneme Sequence: ['/s/', '/p/', '/p/', '/tS/', '/tS/', '/tS/', '/tS/', '/tS/', '/s/', '/p/']\n",
      "Corresponding Observations: [np.int64(0), np.int64(1), np.int64(0), np.int64(0), np.int64(1), np.int64(2), np.int64(2), np.int64(2), np.int64(0), np.int64(2)]\n"
     ]
    }
   ],
   "source": [
    "import random\n",
    "\n",
    "def generate_sequence(num_steps=10):\n",
    "    current_state = '/s/'  # Start with /s/\n",
    "    phoneme_sequence = []\n",
    "    observation_sequence = []\n",
    "\n",
    "    phonemes = list(initial_probabilities.keys())\n",
    "    \n",
    "    for _ in range(num_steps):\n",
    "        phoneme_sequence.append(current_state)\n",
    "        \n",
    "        # Generate observation based on current state\n",
    "        state_index = phonemes.index(current_state)\n",
    "        observation_index = np.random.choice(range(3), p=emission_probabilities[state_index])\n",
    "        observation_sequence.append(observation_index)\n",
    "        \n",
    "        # Transition to next state\n",
    "        next_state_index = np.random.choice(range(4), p=transition_probabilities[state_index])\n",
    "        current_state = phonemes[next_state_index]\n",
    "\n",
    "    return phoneme_sequence, observation_sequence\n",
    "\n",
    "phoneme_seq, obs_seq = generate_sequence()\n",
    "print(\"Generated Phoneme Sequence:\", phoneme_seq)\n",
    "print(\"Corresponding Observations:\", obs_seq)"
   ]
  },
  {
   "cell_type": "markdown",
   "metadata": {},
   "source": [
    "(d) Write an inference for the above HMM implementation."
   ]
  },
  {
   "cell_type": "markdown",
   "metadata": {},
   "source": [
    "In this implementation of the HMM for simulating phoneme transitions for the word \"speech,\" we established a clear framework using initial probabilities that dictate where the model starts (with certainty at /s/), transition probabilities that define how likely it is to move from one phoneme to another, and emission probabilities that determine what observations can be expected from each phoneme. The generated sequences provide insight into how phonemes transition over time and how acoustic properties can vary with those transitions—key aspects in speech processing applications such as speech recognition or synthesis. This framework can be further enhanced by implementing algorithms like the Viterbi algorithm for decoding or Baum-Welch for training the model with real data inputs to refine its accuracy in practical applications of speech processing."
   ]
  },
  {
   "cell_type": "markdown",
   "metadata": {},
   "source": [
    "# End"
   ]
  }
 ],
 "metadata": {
  "kernelspec": {
   "display_name": "dragon",
   "language": "python",
   "name": "python3"
  },
  "language_info": {
   "codemirror_mode": {
    "name": "ipython",
    "version": 3
   },
   "file_extension": ".py",
   "mimetype": "text/x-python",
   "name": "python",
   "nbconvert_exporter": "python",
   "pygments_lexer": "ipython3",
   "version": "3.12.7"
  }
 },
 "nbformat": 4,
 "nbformat_minor": 2
}
